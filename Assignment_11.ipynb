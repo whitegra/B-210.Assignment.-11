{
  "nbformat": 4,
  "nbformat_minor": 0,
  "metadata": {
    "colab": {
      "provenance": []
    },
    "kernelspec": {
      "name": "python3",
      "display_name": "Python 3"
    },
    "language_info": {
      "name": "python"
    }
  },
  "cells": [
    {
      "cell_type": "markdown",
      "source": [
        "def for card deck dict"
      ],
      "metadata": {
        "id": "zeb9pJ3lzP9Q"
      }
    },
    {
      "cell_type": "code",
      "source": [
        "def card_dicts():\n",
        "  # define the types of suits in a card deck, innitialize in list:\n",
        "  suits = ['Clubs', 'Diamonds', 'Hearts', 'Spades']\n",
        "  # Define the number of cards (values) in the card deck, innitialize in list:\n",
        "  values = ['2', '3', '4', '5', '6', '7', '8', '9', '10', 'Jack', 'Queen', 'King', 'Ace']\n",
        "\n",
        "  # Dict for {Suit: {Value: {}}}.....\n",
        "  # suit_values = 1. suit, value: {} for val in vals(will put the 'values' here, then for suit in suits (will put the suits from 'suits' list))\n",
        "  suit_values = {suit: {value: {} for value in values} for suit in suits}\n",
        "  # Create the second dictionary: {Value: {Suit: {}}}\n",
        "  # same schema, pulling from the lists that are defined above using 'for'\n",
        "  values_suits = {value: {suit: {} for suit in suits} for value in values}\n",
        "\n",
        "  # to display both of the dictionaries:\n",
        "  print(\"Here are the specified dictionaries: \")\n",
        "  print(\"______________________________________________\")\n",
        "  print(\"Suit to Values: \")\n",
        "  print(suit_values)\n",
        "  print(\"______________________________________________\")\n",
        "  print(\"Values to suits: \")\n",
        "  print(values_suits)\n",
        "  print(\"______________________________________________\")"
      ],
      "metadata": {
        "id": "0r5bk3FqzTjs"
      },
      "execution_count": 6,
      "outputs": []
    },
    {
      "cell_type": "markdown",
      "source": [
        "Def for RNA codons"
      ],
      "metadata": {
        "id": "ulqf7NOC1aMY"
      }
    },
    {
      "cell_type": "code",
      "source": [
        "# SETS OF THREE RNA = CODON\n",
        "# 1. slice code into sets of three\n",
        "# for i in range (0, len(genetic_code) 3) =  STEP 3 and INCLUDE 0 (1)\n",
        "# then, codon = [1:1+3] = start at 0, then 1, 2, 3 slice\n",
        "# make sure it has a length of three, or else it's not complete.\n",
        "# if else to add it to list of codons\n",
        "\n",
        "# amino_acid = protein ??? I think.\n",
        "# AUTOMATICALLY print the protein sequence, then ask optional arguments\n",
        "\n",
        "# LENGTH:\n",
        "# len(protein)\n",
        "# COMMONLY OCCURING:\n",
        "# from codon_table, common_codon = max(codon_count) = max number of times a specific codon appears, then, to find how many times, codon_count[common_codon] = count how many times the common_codon appears.\n",
        "# MAKE THREE OPTIONS, 1 FOR LENGtzh, 1 FOR COMMON CODON, 1 FOR BOTH, and error handling in case neither"
      ],
      "metadata": {
        "id": "B9eRt5Vw1jcR"
      },
      "execution_count": null,
      "outputs": []
    },
    {
      "cell_type": "code",
      "source": [
        "def translate_rna():\n",
        "    '''\n",
        "    Purpose of function: to translate RNA sequence into protein sequence.\n",
        "    Inputs: RNA_code, optional arguments = 'l' for protein length, 'c' for common codons, or 'b' for both.\n",
        "    Output: Outputs the translated protein sequence, the length of the protein sequence, and/or the most common occurring codons, and how many times they occur.\n",
        "    '''\n",
        "    # first, user enter RNA code:\n",
        "    rna_code = input(\"Enter the RNA sequence you would like to translate: \")\n",
        "    # define RNA codons for translating.... i had to look this up... hopefully it's all correct\n",
        "    codon_dict = {\n",
        "        'UUU': 'F', 'UUC': 'F', 'UUA': 'L', 'UUG': 'L',\n",
        "        'CUU': 'L', 'CUC': 'L', 'CUA': 'L', 'CUG': 'L',\n",
        "        'AUU': 'I', 'AUC': 'I', 'AUA': 'I', 'AUG': 'M',\n",
        "        'GUU': 'V', 'GUC': 'V', 'GUA': 'V', 'GUG': 'V',\n",
        "        'UCU': 'S', 'UCC': 'S', 'UCA': 'S', 'UCG': 'S',\n",
        "        'CCU': 'P', 'CCC': 'P', 'CCA': 'P', 'CCG': 'P',\n",
        "        'ACU': 'T', 'ACC': 'T', 'ACA': 'T', 'ACG': 'T',\n",
        "        'GCU': 'A', 'GCC': 'A', 'GCA': 'A', 'GCG': 'A',\n",
        "        'UAU': 'Y', 'UAC': 'Y', 'CAU': 'H', 'CAC': 'H',\n",
        "        'CAA': 'Q', 'CAG': 'Q', 'AAU': 'N', 'AAC': 'N',\n",
        "        'AAA': 'K', 'AAG': 'K', 'GAU': 'D', 'GAC': 'D',\n",
        "        'GAA': 'E', 'GAG': 'E', 'UGU': 'C', 'UGC': 'C',\n",
        "        'UGG': 'W', 'CGU': 'R', 'CGC': 'R', 'CGA': 'R', 'CGG': 'R',\n",
        "        'AGU': 'S', 'AGC': 'S', 'AGA': 'R', 'AGG': 'R',\n",
        "        'GGU': 'G', 'GGC': 'G', 'GGA': 'G', 'GGG': 'G'\n",
        "    }\n",
        "\n",
        "    # Initialize the protein and the codon count, so it will be filled in the for loops below, and will be used for the optional arguments (codon_count)\n",
        "    protein = ''\n",
        "    codon_count = {}\n",
        "\n",
        "    # for i in range 0 --> length of RNA, step +3:\n",
        "    for i in range(0, len(rna_code), 3):\n",
        "        # Codons = RNA code from the first element, then step 3\n",
        "        codon = rna_code[i:i+3]\n",
        "        # make sure the codon has three elements or else it's not complete\n",
        "        if len(codon) == 3:\n",
        "            # then the amino acid = get value from codon table dict\n",
        "            amino_acid = codon_dict.get(codon, '')\n",
        "            # protein = amino acid ? I think? for printing the length\n",
        "            if amino_acid:\n",
        "                protein += amino_acid\n",
        "            # add to list of codons\n",
        "            if codon in codon_count:\n",
        "                codon_count[codon] += 1\n",
        "            # if specification is not met, then don't add it.\n",
        "            else:\n",
        "                codon_count[codon] = 1\n",
        "\n",
        "    # To display the protein translated before asking about the optional arguments:\n",
        "    print(\"______________________________________________\")\n",
        "    print(\"Translated Protein:\", protein)\n",
        "    print(\"______________________________________________\")\n",
        "\n",
        "    # optional arguments:\n",
        "    length_or_common_codon = input(\"Would you like to see the length of the protein, the most commonly occurring codon, or both?: ('l' for length, 'c' for common, or 'b' for both)\")\n",
        "\n",
        "    # if user enters 'l', then return the len(protein) using the str printing format:\n",
        "    if length_or_common_codon == 'l':\n",
        "        print(\"______________________________________________\")\n",
        "        print(f\"Length of encoded protein: {len(protein)}\")\n",
        "        print(\"______________________________________________\")\n",
        "\n",
        "    # if users chooses 'c', then print the max of codon_count (most common codon), using the key=codon_count.get = get = to get the codon and print it\n",
        "    elif length_or_common_codon == 'c':\n",
        "        common_codon = max(codon_count, key=codon_count.get)\n",
        "        # print the common codon from the codon list, then codon_count[common_codon] to find and print how many times it appears in the sequence. Then, print using the str printing format.\n",
        "        print(\"______________________________________________\")\n",
        "        print(f\"Most commonly occurring codon: {common_codon} ({codon_count[common_codon]} times)\")\n",
        "        print(\"______________________________________________\")\n",
        "\n",
        "    # if user enters 'b', then do both:\n",
        "    elif length_or_common_codon == 'b':\n",
        "        print(\"______________________________________________\")\n",
        "        print(f\"Length of encoded protein: {len(protein)}\")\n",
        "        common_codon = max(codon_count, key=codon_count.get)\n",
        "        print(f\"Most commonly occurring codon: {common_codon} ({codon_count[common_codon]} times)\")\n",
        "        print(\"______________________________________________\")\n",
        "\n",
        "    # if the user enters anything else, then the choice is invalid.\n",
        "    else:\n",
        "        print(\"Invalid choice.\")\n",
        "        return\n"
      ],
      "metadata": {
        "id": "l-chW28L1Wni"
      },
      "execution_count": 7,
      "outputs": []
    },
    {
      "cell_type": "markdown",
      "source": [
        "MAIN"
      ],
      "metadata": {
        "id": "PhfsTHSiJ6tU"
      }
    },
    {
      "cell_type": "code",
      "source": [
        "while True:\n",
        "  # for user to chose the program\n",
        "  program_choice = input(\"Enter the program you would like to run: ('c' for card dictionary or 'r' for RNA translation: )\")\n",
        "\n",
        "  # in case user enters an invalid program choice\n",
        "  if program_choice != 'c' and program_choice != 'r':\n",
        "    print(\"Invalid choice. Please try again. \")\n",
        "    continue\n",
        "\n",
        "  # FOR CARD DICTIONARY:\n",
        "  elif program_choice == 'c':\n",
        "    while True:\n",
        "      card_dicts()\n",
        "      run_cards = input(\"Run again? ('y/n'):\")\n",
        "      if card_dicts != 'y':\n",
        "        break\n",
        "\n",
        "  # FOR RNA TRANSLATION:\n",
        "  elif program_choice == 'r':\n",
        "    while True:\n",
        "      translate_rna()\n",
        "      run_rna = input(\"Run again? ('y/n'): \")\n",
        "      if run_rna != 'y':\n",
        "        break\n",
        "\n",
        "  # invlaid choice\n",
        "  else:\n",
        "    print(\"invalid choice. Please try again. /n\")\n",
        "    continue\n",
        "\n",
        "# run program again (while loop)\n",
        "  run_program_again = input(\"Would you like to run the program again? ('y' for yes, 'stop' to exit): \")\n",
        "  if run_program_again != 'y':\n",
        "    break"
      ],
      "metadata": {
        "colab": {
          "base_uri": "https://localhost:8080/"
        },
        "id": "3uf6NTyGJ7g9",
        "outputId": "18c17802-875a-4330-fe07-23c702e67926"
      },
      "execution_count": 8,
      "outputs": [
        {
          "name": "stdout",
          "output_type": "stream",
          "text": [
            "Enter the program you would like to run: ('c' for card dictionary or 'r' for RNA translation: )c\n",
            "Here are the specified dictionaries: \n",
            "______________________________________________\n",
            "Suit to Values: \n",
            "{'Clubs': {'2': {}, '3': {}, '4': {}, '5': {}, '6': {}, '7': {}, '8': {}, '9': {}, '10': {}, 'Jack': {}, 'Queen': {}, 'King': {}, 'Ace': {}}, 'Diamonds': {'2': {}, '3': {}, '4': {}, '5': {}, '6': {}, '7': {}, '8': {}, '9': {}, '10': {}, 'Jack': {}, 'Queen': {}, 'King': {}, 'Ace': {}}, 'Hearts': {'2': {}, '3': {}, '4': {}, '5': {}, '6': {}, '7': {}, '8': {}, '9': {}, '10': {}, 'Jack': {}, 'Queen': {}, 'King': {}, 'Ace': {}}, 'Spades': {'2': {}, '3': {}, '4': {}, '5': {}, '6': {}, '7': {}, '8': {}, '9': {}, '10': {}, 'Jack': {}, 'Queen': {}, 'King': {}, 'Ace': {}}}\n",
            "______________________________________________\n",
            "Values to suits: \n",
            "{'2': {'Clubs': {}, 'Diamonds': {}, 'Hearts': {}, 'Spades': {}}, '3': {'Clubs': {}, 'Diamonds': {}, 'Hearts': {}, 'Spades': {}}, '4': {'Clubs': {}, 'Diamonds': {}, 'Hearts': {}, 'Spades': {}}, '5': {'Clubs': {}, 'Diamonds': {}, 'Hearts': {}, 'Spades': {}}, '6': {'Clubs': {}, 'Diamonds': {}, 'Hearts': {}, 'Spades': {}}, '7': {'Clubs': {}, 'Diamonds': {}, 'Hearts': {}, 'Spades': {}}, '8': {'Clubs': {}, 'Diamonds': {}, 'Hearts': {}, 'Spades': {}}, '9': {'Clubs': {}, 'Diamonds': {}, 'Hearts': {}, 'Spades': {}}, '10': {'Clubs': {}, 'Diamonds': {}, 'Hearts': {}, 'Spades': {}}, 'Jack': {'Clubs': {}, 'Diamonds': {}, 'Hearts': {}, 'Spades': {}}, 'Queen': {'Clubs': {}, 'Diamonds': {}, 'Hearts': {}, 'Spades': {}}, 'King': {'Clubs': {}, 'Diamonds': {}, 'Hearts': {}, 'Spades': {}}, 'Ace': {'Clubs': {}, 'Diamonds': {}, 'Hearts': {}, 'Spades': {}}}\n",
            "______________________________________________\n",
            "Run again? ('y/n'):n\n",
            "Would you like to run the program again? ('y' for yes, 'stop' to exit): y\n",
            "Enter the program you would like to run: ('c' for card dictionary or 'r' for RNA translation: )r\n",
            "Enter the RNA sequence you would like to translate: AGCCCTCCAGGACAGGCTGCATCAGAAGAGGCCATCAAGCAGGTCTGTTCCAAGGGCCTTTGCGTCAGGT\n",
            "______________________________________________\n",
            "Translated Protein: SPGQAEEAKQKGR\n",
            "______________________________________________\n",
            "Would you like to see the length of the protein, the most commonly occurring codon, or both?: ('l' for length, 'c' for common, or 'b' for both)b\n",
            "______________________________________________\n",
            "Length of encoded protein: 13\n",
            "Most commonly occurring codon: CAG (2 times)\n",
            "______________________________________________\n",
            "Run again? ('y/n'): y\n",
            "Enter the RNA sequence you would like to translate: GGGCTCAGGATTCCAGGGTGGCTGGACCCCAGGCCCCAGCTCTGCAGCAGGGAGGACGTGGCTGGGCTCG TGAAGCATGTGGGGGTGAGCCCAGGGGCCCCAAGGCAGGGCACCTGGCCTTCAGCCTGCCTCAGCCCTGC CTGTCTCCCAGATCACTGTCCTTCTGCCATGGCCCTGTGGATGCGCCTCCTGCCCCTGCTGGCGCTGCTG GCCCTCTGGGGACCTGACCCAGCCGCAGCCTTTGTGAACCAACACCTGTGCGGCTCACACCTGGTGGAAG CTCTCTACCTAGTGTGCGGGGAACGAGGCTTCTTCTACACACCCAAGACCCGCCGGGAGGCAGAGGACCT GCAGGGTGAGCCAACTGCCCATTGCTGCCCCTGGCCGCCCCCAGCCACCCCCTGCTCCTGGCGCTCCCAC CCAGCATGGGCAGAAGGGGGCAGGAGGCTGCCACCCAGCAGGGGGTCAGGTGCACTTTTTTAAAAAGAAG TTCTCTTGGTCACGTCCTAAAAGTGACCAGCTCCCTGTGGCCCAGTCAGAATCTCAGCCTGAGGACGGTG TTGGCTTCGGCAGCCCCGAGATACATCAGAGGGTGGGCACGCTCCTCCCTCCACTCGCCCCTCAAACAAA TGCCCCGCAGCCCATTTCTCCACCCTCATTTGATGACCGCAGATTCAAGTGTTTTGTTAAGTAAAGTCCT GGGTGACCTGGGGTCACAGGGTGCCCCACGCTGCCTGCCTCTGGGCGAACACCCCATCACGCCCGGAGGA GGGCGTGGCTGCCTGCCTGAGTGGGCCAGACCCCTGTCGCCAGGCCTCACGGCAGCTCCATAGTCAGGAG ATGGGGAAGATGCTGGGGACAGGCCCTGGGGAGAAGTACTGGGATCACCTGTTCAGGCTCCCACTGTGAC GCTGCCCCGGGGCGGGGGAAGGAGGTGGGACATGTGGGCGTTGGGGCCTGTAGGTCCACACCCAGTGTGG GTGACCCTCCCTCTAACCTGGGTCCAGCCCGGCTGGAGATGGGTGGGAGTGCGACCTAGGGCTGGCGGGC AGGCGGGCACTGTGTCTCCCTGACTGTGTCCTCCTGTGTCCCTCTGCCTCGCCGCTGTTCCGGAACCTGC TCTGCGCGGCACGTCCTGGCAGTGGGGCAGGTGGAGCTGGGCGGGGGCCCTGGTGCAGGCAGCCTGCAGC CCTTGGCCCTGGAGGGGTCCCTGCAGAAGCGTGGCATTGTGGAACAATGCTGTACCAGCATCTGCTCCCT CTACCAGCTGGAGAACTACTGCAACTAGACGCAGCCCGCAGGCAGCCCCACACCCGCCGCCTCCTGCACC  GAGAGAGATGGAATAAAGCCCTTGAACCAGC\n",
            "______________________________________________\n",
            "Translated Protein: GRPGDPRPQSREDGEAGEPRGPKAGHASQPQPPGAPRAGDPAAANQHGHERGTRHTQDPPGGRGRSQPAGRPQPPGPPAAEGGRRPPSRGAKEHKTSPQSRTGGSPEQRGTPAQTPAATPQQKDGQAPRGEHPTPGGAAGQTARHGSRGKGTGGEKHRPPRGGGRRDAGPHPDPNPAREGATGRRRADPAPRNRGTQGRSAGAQAASAEGQKGEQTSPGEQDAARRQPHTRRHERGKPNQ\n",
            "______________________________________________\n",
            "Would you like to see the length of the protein, the most commonly occurring codon, or both?: ('l' for length, 'c' for common, or 'b' for both)b\n",
            "______________________________________________\n",
            "Length of encoded protein: 240\n",
            "Most commonly occurring codon: CTG (30 times)\n",
            "______________________________________________\n",
            "Run again? ('y/n'): n\n",
            "Would you like to run the program again? ('y' for yes, 'stop' to exit): stop\n"
          ]
        }
      ]
    }
  ]
}